{
 "cells": [
  {
   "cell_type": "markdown",
   "metadata": {},
   "source": [
    "## <b>Scrapping Data Digimon </b>\n",
    "<hr>"
   ]
  },
  {
   "cell_type": "code",
   "execution_count": 24,
   "metadata": {},
   "outputs": [],
   "source": [
    "# Import Package\n",
    "import requests\n",
    "from bs4 import BeautifulSoup as bs\n",
    "import xlsxwriter"
   ]
  },
  {
   "cell_type": "code",
   "execution_count": 23,
   "metadata": {},
   "outputs": [],
   "source": [
    "# Connect to web page\n",
    "url=\"http://digidb.io/digimon-list/\"\n",
    "html=requests.get(url)\n",
    "soup=bs(html.content,\"html.parser\")"
   ]
  },
  {
   "cell_type": "code",
   "execution_count": 25,
   "metadata": {},
   "outputs": [],
   "source": [
    "# Prepare for the header \n",
    "body=soup.find(\"tbody\")\n",
    "th= soup.find_all(\"th\")\n",
    "header=[]\n",
    "for i in th[::]:\n",
    "    header.append(i.text)\n",
    "header.insert(2,\"Link\")\n",
    "header[0]=header[0].replace(\"#\",\"ID\")\n",
    "# print(header)"
   ]
  },
  {
   "cell_type": "code",
   "execution_count": null,
   "metadata": {},
   "outputs": [],
   "source": [
    "# Get data for link image\n",
    "img=soup.find_all(\"img\")\n",
    "listImg=[]\n",
    "for link in img[2:-2]:\n",
    "    listImg.append(link.get('src'))"
   ]
  },
  {
   "cell_type": "code",
   "execution_count": 5,
   "metadata": {},
   "outputs": [],
   "source": [
    "# get data beside link image\n",
    "tr=body.find_all(\"tr\")\n",
    "digi=[]\n",
    "for i in tr:\n",
    "    td=i.find_all(\"td\")\n",
    "    digi.append([i.text for i in td])\n",
    "\n",
    "for i in range(len(digi)):\n",
    "    digi[i].insert(2,listImg[i])\n",
    "for i in digi:\n",
    "    i[0]=i[0].replace(\"\\xa0\",\"\")\n",
    "    i[1]=i[1].replace(\"\\xa0\",\"\")\n",
    "    i[1]=i[1].replace(\" \",\"\")"
   ]
  },
  {
   "cell_type": "code",
   "execution_count": 6,
   "metadata": {},
   "outputs": [],
   "source": [
    "#============================================== excel"
   ]
  },
  {
   "cell_type": "code",
   "execution_count": 7,
   "metadata": {},
   "outputs": [],
   "source": [
    "workbook  = xlsxwriter.Workbook('Digimon.xlsx')\n",
    "sheet = workbook.add_worksheet()\n",
    "\n",
    "for i in range(len(header)):\n",
    "    sheet.write(0,i,header[i])\n",
    "    \n",
    "for i in range(len(digi)):\n",
    "    for j in range(len(digi[i])):\n",
    "        sheet.write(i+1,j,digi[i][j])\n",
    "workbook.close()\n",
    "\n"
   ]
  },
  {
   "cell_type": "code",
   "execution_count": 8,
   "metadata": {},
   "outputs": [],
   "source": [
    "#=========================================csv"
   ]
  },
  {
   "cell_type": "code",
   "execution_count": 9,
   "metadata": {},
   "outputs": [],
   "source": [
    "import csv"
   ]
  },
  {
   "cell_type": "code",
   "execution_count": 10,
   "metadata": {},
   "outputs": [],
   "source": [
    "a=digi\n",
    "b=header\n",
    "data=[]\n",
    "for i in range(len(a)):\n",
    "    data.append(dict(zip(b,a[i])))\n",
    "with open(\"digi.csv\",\"w\",newline=\"\") as csvku:\n",
    "    fd=header\n",
    "    writer=csv.DictWriter(csvku,fieldnames=fd)\n",
    "    writer.writeheader()\n",
    "    writer.writerows(data)"
   ]
  },
  {
   "cell_type": "code",
   "execution_count": 11,
   "metadata": {},
   "outputs": [],
   "source": [
    "#=======================================json"
   ]
  },
  {
   "cell_type": "code",
   "execution_count": 12,
   "metadata": {},
   "outputs": [],
   "source": [
    "import json\n",
    "with open(\"digi.json\",\"w\") as jsonku:\n",
    "    json.dump(data,jsonku)"
   ]
  },
  {
   "cell_type": "code",
   "execution_count": 13,
   "metadata": {},
   "outputs": [],
   "source": [
    "#======================================mongodb"
   ]
  },
  {
   "cell_type": "code",
   "execution_count": 14,
   "metadata": {},
   "outputs": [
    {
     "data": {
      "text/plain": [
       "<pymongo.results.InsertManyResult at 0x21c4e7b4dc8>"
      ]
     },
     "execution_count": 14,
     "metadata": {},
     "output_type": "execute_result"
    }
   ],
   "source": [
    "import pymongo as pm\n",
    "urldb=\"mongodb://localhost:27017\"\n",
    "mongoku = pm.MongoClient(urldb)\n",
    "\n",
    "db=mongoku[\"Digimon\"]\n",
    "col=db[\"Digimon\"]\n",
    "col.insert_many(data)"
   ]
  },
  {
   "cell_type": "code",
   "execution_count": 15,
   "metadata": {},
   "outputs": [],
   "source": [
    "#======================================mysql"
   ]
  },
  {
   "cell_type": "code",
   "execution_count": 16,
   "metadata": {},
   "outputs": [
    {
     "name": "stdout",
     "output_type": "stream",
     "text": [
      "341 Data tersimpan!\n"
     ]
    }
   ],
   "source": [
    "for i in range(len(digi)):\n",
    "    digi[i]=tuple(digi[i])\n",
    "head=\"id,digimon,link,stage,type,attribute,memory,equip,hp,sp,atk,def,intel,spd\"\n",
    "import mysql.connector as mc\n",
    "db=mc.connect(host=\"localhost\",\n",
    "          port=3306,\n",
    "          user=\"root\",\n",
    "          passwd=\"password\",\n",
    "          database=\"digimon\")\n",
    "cs=db.cursor()\n",
    "# query=(\"create database digimon\")\n",
    "# query=(\"create table digimon(id varchar(100),digimon varchar(100),link varchar(100),stage varchar(100),type varchar(100),attribute varchar(100),memory varchar(100),equip varchar(100),hp varchar(100),sp varchar(100),atk varchar(100),def varchar(100),intel varchar(100),spd varchar(100))\")\n",
    "# query=\"describe digimon\"\n",
    "query=f\"insert into digimon values (%s,%s,%s,%s,%s,%s,%s,%s,%s,%s,%s,%s,%s,%s)\"\n",
    "# cs.execute(query)\n",
    "# list(cs)\n",
    "cs.executemany(query,digi)\n",
    "db.commit() \n",
    "print(cs.rowcount, \"Data tersimpan!\")\n",
    "\n"
   ]
  },
  {
   "cell_type": "markdown",
   "metadata": {},
   "source": [
    "<hr>"
   ]
  }
 ],
 "metadata": {
  "kernelspec": {
   "display_name": "Python 3",
   "language": "python",
   "name": "python3"
  },
  "language_info": {
   "codemirror_mode": {
    "name": "ipython",
    "version": 3
   },
   "file_extension": ".py",
   "mimetype": "text/x-python",
   "name": "python",
   "nbconvert_exporter": "python",
   "pygments_lexer": "ipython3",
   "version": "3.7.4"
  }
 },
 "nbformat": 4,
 "nbformat_minor": 4
}
